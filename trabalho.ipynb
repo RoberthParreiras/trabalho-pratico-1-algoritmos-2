{
 "cells": [
  {
   "cell_type": "markdown",
   "metadata": {},
   "source": [
    "<h1>Trabalho Prático 1 de Algoritmos 2<h1>\n"
   ]
  },
  {
   "cell_type": "markdown",
   "metadata": {},
   "source": [
    "Matrícula: 2019041647 <br>\n",
    "Nome: Roberth Alves Parreiras\n"
   ]
  },
  {
   "cell_type": "markdown",
   "metadata": {},
   "source": [
    "<h2>Envoltória Convexa</h2>"
   ]
  },
  {
   "cell_type": "code",
   "execution_count": null,
   "metadata": {},
   "outputs": [],
   "source": [
    "import numpy as np\n",
    "\n",
    "\n",
    "#encontra o primeiro ponto que vai estar na envoltória\n",
    "def PontoMaisAEsquerda(pontos):\n",
    "\n",
    "    min = 0\n",
    "    for i in range(len(pontos)):\n",
    "        if pontos[i,0] < pontos[min,0]:\n",
    "            min = i\n",
    "        elif pontos[i,0] == pontos[min,0]:\n",
    "\n",
    "            #testa qual o menor y\n",
    "            if pontos[i,1] < pontos[min,1]:\n",
    "                min = i\n",
    "\n",
    "    return min\n",
    "\n",
    "\n",
    "\n",
    "#retorna a direcao do caminho entre os pontos dados\n",
    "def Orientacao(p0, p1, p2):\n",
    "\n",
    "    #cria numpy array para facilitar o cálculo\n",
    "    pt0 = np.empty((0,2), float)\n",
    "    pt1 = np.empty((0,2), float)\n",
    "    pt2 = np.empty((0,2), float)\n",
    "\n",
    "    pt0 = np.vstack((pt0, p0))\n",
    "    pt1 = np.vstack((pt1, p1))\n",
    "    pt2 = np.vstack((pt2, p2))\n",
    "\n",
    "    val = ((pt1[0,0] - pt0[0,0]) * (pt2[0,1] - pt0[0,1]) - (pt2[0,0] - pt0[0,0]) * (pt1[0,1] - pt0[0,1]))\n",
    "\n",
    "    if val > 0:\n",
    "        return 'horario'\n",
    "    elif val < 0:\n",
    "        return 'antiHorario'\n",
    "    else:\n",
    "        return 'colinear'    \n",
    " \n",
    "\n",
    "#retorna as posições dos pontos que pertencem a envoltória\n",
    "def EnvoltoriaConvexa(pontos):\n",
    "\n",
    "    ptEsquerda = PontoMaisAEsquerda(pontos)\n",
    "    envoltoria = [] #array para guardar as posições que estão na envoltória\n",
    "     \n",
    "    pt = ptEsquerda\n",
    "    q = 0\n",
    "\n",
    "    #testa e adiciona os pontos que vão estar na envoltória\n",
    "    while(True):\n",
    "         \n",
    "        envoltoria.append(pt)\n",
    "        q = (pt + 1) % len(pontos)\n",
    "\n",
    "        for i in range(len(pontos)):\n",
    "\n",
    "            if(Orientacao(pontos[pt], pontos[i], pontos[q]) == 'antiHorario'):\n",
    "                q = i\n",
    " \n",
    "        pt = q\n",
    "\n",
    "        #retorna após checar todos os pontos\n",
    "        if(pt == ptEsquerda):\n",
    "            envoltoria.append(pt) #adiciona a primeira posição para fechar a envoltória\n",
    "            return envoltoria\n",
    " \n"
   ]
  },
  {
   "cell_type": "markdown",
   "metadata": {},
   "source": [
    "<h2>Teste de intersecção<h2>"
   ]
  },
  {
   "cell_type": "markdown",
   "metadata": {},
   "source": [
    "Logo após encontrar a envoltória convexa de cada classe, é testado se essas envoltórias se intersectam, sendo retornado verdadeiro caso se intersectem.\n",
    "<p>O algoritmo abaixo faz esse teste:"
   ]
  },
  {
   "cell_type": "code",
   "execution_count": null,
   "metadata": {},
   "outputs": [],
   "source": [
    "#retorna o produto vetorial entre os pontos dados\n",
    "def Direcao(pi, pj, pk):\n",
    "    \n",
    "    val1 = pk - pi\n",
    "    val2 = pj - pi\n",
    "\n",
    "    return np.cross(val1, val2)\n",
    "\n",
    "\n",
    "#retorna se os segmentos são colineares ou não\n",
    "def NoSegmento(pi, pj, pk):\n",
    "\n",
    "    #cria numpy array para facilitar o cálculo\n",
    "    ptI = np.empty((0,2), float)\n",
    "    ptJ = np.empty((0,2), float)\n",
    "    ptK = np.empty((0,2), float)\n",
    "\n",
    "    ptI = np.vstack((ptI, pi))\n",
    "    ptJ = np.vstack((ptJ, pj))\n",
    "    ptK = np.vstack((ptK, pk))\n",
    "\n",
    "    if min(ptI[0,0], ptJ[0,0]) <= ptK[0,0] <= max(ptI[0,0], ptJ[0,0]) and min(ptI[0,1], ptJ[0,1]) \\\n",
    "    <= ptK[0,1] <= max(ptI[0,1], ptJ[0,1]):\n",
    "        return True\n",
    "    else:\n",
    "        return False\n",
    "\n",
    "\n",
    "\n",
    "#retorna se os segmentos se intersectam\n",
    "def IntercesaoDeSegmentos(p1, p2, p3, p4):\n",
    "    d1 = Direcao(p3, p4, p1)\n",
    "    d2 = Direcao(p3, p4, p2)\n",
    "    d3 = Direcao(p1, p2, p3)\n",
    "    d4 = Direcao(p1, p2, p4)\n",
    "\n",
    "    if ((d1 > 0 and d2 < 0) or (d1 < 0 and d2 > 0)) and ((d3 > 0 and d4 < 0) or (d3 < 0 and d4 > 0)):\n",
    "        return True\n",
    "    elif d1 == 0 and NoSegmento(p3, p4, p1):\n",
    "        return True\n",
    "    elif d2 == 0 and NoSegmento(p3, p4, p2):\n",
    "        return True\n",
    "    elif d3 == 0 and NoSegmento(p1, p2, p3):\n",
    "        return True\n",
    "    elif d4 == 0 and NoSegmento(p1, p2, p4):\n",
    "        return True\n",
    "    else:\n",
    "        return False\n"
   ]
  },
  {
   "cell_type": "code",
   "execution_count": null,
   "metadata": {},
   "outputs": [],
   "source": [
    "def separabilidadeLinear(pontos, pontos2):\n",
    "\n",
    "    intersectam = False\n",
    "\n",
    "    #ordena os pontos\n",
    "    pontosXOrdenados = pontos[pontos[:,0].argsort()]\n",
    "    pontos2XOrdenados = pontos2[pontos2[:,0].argsort()]\n",
    "\n",
    "    pontosYOrdenados = pontos[pontos[:,1].argsort()]\n",
    "    pontos2YOrdenados = pontos2[pontos2[:,1].argsort()]\n",
    "    \n",
    "    #testa se uma envoltória está dentro da outra envoltória\n",
    "    if ((pontosXOrdenados[0,0] <= pontos2XOrdenados[0,0] or pontos2XOrdenados[0,0] <= pontosXOrdenados[0,0]) and (pontosXOrdenados[-1,0] >=     pontos2XOrdenados[-1,0] or pontos2XOrdenados[-1,0] >= pontosXOrdenados[-1,0])) \\\n",
    "        and ((pontosYOrdenados[0,1] <= pontos2YOrdenados[0,1] or pontos2YOrdenados[0,1] <= pontosYOrdenados[0,1]) and (pontosYOrdenados[-1,1] >= pontos2YOrdenados[-1,1] or pontos2YOrdenados[-1,1] >= pontosYOrdenados[-1,1])):\n",
    "        \n",
    "        intersectam = True\n",
    "        return intersectam\n",
    "        \n",
    "    #testa se os segmentos se intersectam\n",
    "    for i in range(len(pontos) - 1):\n",
    "        for j in range(len(pontos2) - 1):\n",
    "            intersectam = IntercesaoDeSegmentos(pontos[i], pontos[i+1], pontos2[j], pontos2[j+1])\n",
    "\n",
    "    return intersectam\n",
    "\n"
   ]
  },
  {
   "cell_type": "markdown",
   "metadata": {},
   "source": [
    "<h2>Pontos mais próximos"
   ]
  },
  {
   "cell_type": "markdown",
   "metadata": {},
   "source": [
    "Com as envoltórias não se intersectando, tem-se a procura dos pontos mais próximos entre as duas envoltórias.\n",
    "<p>O algoritmo abaixo encontra esses pontos:"
   ]
  },
  {
   "cell_type": "code",
   "execution_count": null,
   "metadata": {},
   "outputs": [],
   "source": [
    "import sys, math\n",
    "\n",
    "#calcula a distância euclidiana entre os pontos\n",
    "def distancia(p1, p2):\n",
    "\n",
    "    pt1 = np.empty((0,2), float)\n",
    "    pt2 = np.empty((0,2), float)\n",
    "\n",
    "    pt1 = np.vstack((pt1, p1))\n",
    "    pt2 = np.vstack((pt2, p2))\n",
    "\n",
    "    return math.sqrt((pt1[0,0] - pt2[0,0]) * (pt1[0,0] - pt2[0,0]) + (pt1[0,1] - pt2[0,1]) * (pt1[0,1] - pt2[0,1]))\n",
    "\n",
    "\n",
    "#calcula o ponto mais próximo entre as envoltórias\n",
    "def proximo(pt1, pt2):\n",
    "\n",
    "    min_val = sys.maxsize\n",
    "    pontos_proximos = np.empty((0,2))\n",
    "\n",
    "\n",
    "    for i in range(len(pt1)):\n",
    "        for j in range(len(pt2)):\n",
    "            if distancia(pt1[i], pt2[j]) < min_val:\n",
    "                min_val = distancia(pt1[i], pt2[j])\n",
    "                pontos_proximos = np.vstack((pt1[i], pt2[j]))\n",
    "    \n",
    "    return pontos_proximos\n",
    "    "
   ]
  },
  {
   "cell_type": "markdown",
   "metadata": {},
   "source": [
    "<h2>Equação da reta "
   ]
  },
  {
   "cell_type": "markdown",
   "metadata": {},
   "source": [
    "Com os pontos mais próximos encontrados, agora é encontrar a equação da reta entre esses pontos.\n",
    "<p>O algoritmo abaixo faz isso:"
   ]
  },
  {
   "cell_type": "code",
   "execution_count": null,
   "metadata": {},
   "outputs": [],
   "source": [
    "#achar a equação da reta do tipo Ax + By + c = 0\n",
    "\n",
    "#calcula a inclinação da reta que passa entre os pontos mais próximos das envoltórias\n",
    "def InclinacaoDaReta(ptsProximos):\n",
    "    inclinacao = np.array([ptsProximos[0,1] - ptsProximos[1,1], ptsProximos[0,0] - ptsProximos[1,0]])\n",
    "    return inclinacao\n",
    "\n",
    "#calcula o deslocamento dessa reta\n",
    "def DeslocamentoDaReta(ptsProximos, Inclinacao):\n",
    "    b = (ptsProximos[0,1] - ptsProximos[0,0] * Inclinacao)\n",
    "    return b\n",
    "\n"
   ]
  },
  {
   "cell_type": "markdown",
   "metadata": {},
   "source": [
    "<h2>Ponto médio"
   ]
  },
  {
   "cell_type": "markdown",
   "metadata": {},
   "source": [
    "O algoritmo abaixo encontra o ponto médio:"
   ]
  },
  {
   "cell_type": "code",
   "execution_count": null,
   "metadata": {},
   "outputs": [],
   "source": [
    "#encontrar o ponto médio\n",
    "\n",
    "#calcula o ponto médio entre os pontos mais próximos que passa pela reta\n",
    "def pontoMedio(ptsProximos):\n",
    "    ptMedio = np.empty((0,2), float)\n",
    "    pts = np.array([(ptsProximos[0,0] + ptsProximos[1,0])/2, (ptsProximos[0,1] + ptsProximos[1,1])/2])\n",
    "    ptMedio = np.vstack((ptMedio, pts))\n",
    "\n",
    "    return ptMedio\n"
   ]
  },
  {
   "cell_type": "markdown",
   "metadata": {},
   "source": [
    "<h2>Equação da reta que é perpendicular ao ponto médio"
   ]
  },
  {
   "cell_type": "markdown",
   "metadata": {},
   "source": [
    "Com a equação da reta e com o ponto médio, agora deve ser encontrado a equação da reta perpendicular a esse ponto médio.\n",
    "<p>O algoritmo abaixo encontra essa equação da reta:"
   ]
  },
  {
   "cell_type": "code",
   "execution_count": null,
   "metadata": {},
   "outputs": [],
   "source": [
    "#encontra a reta perdendicular a reta que passa pelos pontos mais próximos\n",
    "def InclinacaoDaRetaPerpendicular(inclinacao):\n",
    "\n",
    "    a = (inclinacao[1] * inclinacao[0]) / inclinacao[0]\n",
    "    b = (-inclinacao[1] * inclinacao[0]) / inclinacao[1]\n",
    "\n",
    "    return a,b\n",
    "\n",
    "\n",
    "#calcula o valor c da reta\n",
    "def ValorC(ptMedio, valAB):\n",
    "    c = -ptMedio[0,0] * valAB[0,0] + ptMedio[0,1] * valAB[0,1]\n",
    "    return c\n"
   ]
  },
  {
   "cell_type": "code",
   "execution_count": null,
   "metadata": {},
   "outputs": [],
   "source": [
    "#classifica os pontos dados\n",
    "def classificador(valAB, pontosDesconhecidos, pontosClassificados):\n",
    "    \n",
    "    if(valAB[0,1]):\n",
    "        for i, valor in enumerate(pontosDesconhecidos):\n",
    "            if(valor > 0):\n",
    "                pontosClassificados[i] = 0\n",
    "            elif(valor < 0):\n",
    "                pontosClassificados[i] = 1\n",
    "            else:\n",
    "                pontosClassificados[i] = -1\n",
    "    else:\n",
    "        for i, valor in enumerate(pontosDesconhecidos):\n",
    "            if(valor > 0):\n",
    "                print(i)\n",
    "                pontosClassificados[i] = 1\n",
    "            elif(valor < 0):\n",
    "                pontosClassificados[i] = 0\n",
    "            else:\n",
    "                pontosClassificados[i] = -1\n",
    "    \n",
    "    return pontosClassificados\n"
   ]
  },
  {
   "cell_type": "markdown",
   "metadata": {},
   "source": [
    "<h1>Relatório"
   ]
  },
  {
   "cell_type": "markdown",
   "metadata": {},
   "source": [
    "Esse trabalho prático tem como objetivo resolver o problema de encontrar uma envoltória convexa entre duas classes, e depois classificar a qual dessas duas classes esses pontos desconhecidos pertencem. Dessa forma, primeiramente, foi implementado a envoltória convexa de Jarvis, vista em aula, com sua complexidade de tempo *O*(P*E), sendo P a quantidade de pontos dado no input da função e E a quantidade de pontos retornado, sendo esses pontos retornados, os pontos da envoltória.\n",
    "<p>Encontrando as envoltórias, testa se elas se intersectam, com o algoritmo de varredura, visto em aula, que tem complexidade de tempo <i>O</i>(E*E'), com E o número de pontos da envoltória de uma das classes e E' o número de pontos da envoltória de outra classe.\n",
    "<p>Não se intersectando, acha-se o ponto de cada envoltória mais próximos, utilizando a distância de Euclides, para todos os pontos das envoltórias. Assim, a complexidade de tempo é <i>O</i>(E*E'), com E o número de pontos da envoltória de uma das classes e E' o número de pontos da envoltória de outra classe.\n",
    "<p>Com os pontos mais próximos, encontra-se a equação da reta que intersecta esses dois pontos com complexidade de tempo <i>O</i>(1). Obtendo essa equação da reta, encontra o ponto médio dessa reta com complexidade de tempo <i>O</i>(1). Após isso, encontra a equação da reta que é perpendicular a essa equação da reta, passando pelo ponto médio, com complexidade de tempo <i>O</i>(1).\n",
    "<p>Com o valor da equação da reta perpendicular, agora é utilizar o classificador determinar de qual classe pontos desconhecidos pertencem. Para isso, o classificador testa se o ponto é maior que 0 ou menor que 0 para determinar de qual classe ele faz parte. Sua complexidade de tempo é <i>O</i>(p), sendo p o número de pontos a serem classificados."
   ]
  },
  {
   "cell_type": "markdown",
   "metadata": {},
   "source": [
    "<h1>Experimentos</h1>"
   ]
  },
  {
   "cell_type": "markdown",
   "metadata": {},
   "source": [
    "Foi feito 10 experimentos, com os dados: <i>australian, bands, bupa, haberman, heart, hepatitis, mammographic, pima, saheart</i> e <i>titanic</i>.\n",
    "<p>Dessas bases de dados, 6 foram linearmente separáveis, 2 dessas a equação perpendicular intersecta alguma das envoltórias e 2 dessas as envoltórias se intersectam. obs: os gráficos estão um pouco distorcidos, mas a reta é perpendicular ao ponto médio em todos os casos.\n",
    "<p>A seguir, estão os gráficos de cada base de dados:"
   ]
  },
  {
   "cell_type": "markdown",
   "metadata": {},
   "source": [
    "<h4>australian</h4>"
   ]
  },
  {
   "cell_type": "markdown",
   "metadata": {},
   "source": [
    "<img src=\"australian/australian.png\"> "
   ]
  },
  {
   "cell_type": "markdown",
   "metadata": {},
   "source": [
    "<h4>bands</h4>"
   ]
  },
  {
   "cell_type": "markdown",
   "metadata": {},
   "source": [
    "<img src=\"bands/bands.png\">"
   ]
  },
  {
   "cell_type": "markdown",
   "metadata": {},
   "source": [
    "<h4>bupa</h4>"
   ]
  },
  {
   "cell_type": "markdown",
   "metadata": {},
   "source": [
    "<img src=\"bupa/bupa.png\">"
   ]
  },
  {
   "cell_type": "markdown",
   "metadata": {},
   "source": [
    "<h4>haberman</h4>"
   ]
  },
  {
   "cell_type": "markdown",
   "metadata": {},
   "source": [
    "<img src=\"haberman/haberman.png\">"
   ]
  },
  {
   "cell_type": "markdown",
   "metadata": {},
   "source": [
    "<h4>heart</h4>"
   ]
  },
  {
   "cell_type": "markdown",
   "metadata": {},
   "source": [
    "<img src=\"heart/heart.png\">"
   ]
  },
  {
   "cell_type": "markdown",
   "metadata": {},
   "source": [
    "<h4>hepatitis</h4>"
   ]
  },
  {
   "cell_type": "markdown",
   "metadata": {},
   "source": [
    "<img src=\"hepatitis/hepatitis.png\">"
   ]
  },
  {
   "cell_type": "markdown",
   "metadata": {},
   "source": [
    "<h4>mammographic</h4>"
   ]
  },
  {
   "cell_type": "markdown",
   "metadata": {},
   "source": [
    "<img src=\"mammographic/mammographic.png\">"
   ]
  },
  {
   "cell_type": "markdown",
   "metadata": {},
   "source": [
    "<h4>pima</h4>"
   ]
  },
  {
   "cell_type": "markdown",
   "metadata": {},
   "source": [
    "<img src=\"pima/pima.png\">"
   ]
  },
  {
   "cell_type": "markdown",
   "metadata": {},
   "source": [
    "<h4>saheart</h4>\n"
   ]
  },
  {
   "cell_type": "markdown",
   "metadata": {},
   "source": [
    "<img src=\"saheart/saheart.png\">"
   ]
  },
  {
   "cell_type": "markdown",
   "metadata": {},
   "source": [
    "<h4>titanic</h4>"
   ]
  },
  {
   "cell_type": "markdown",
   "metadata": {},
   "source": [
    "<img src=\"titanic/titanic.png\">"
   ]
  },
  {
   "cell_type": "markdown",
   "metadata": {},
   "source": [
    "<h2>Precisão, Revocação e F1-score</h2>"
   ]
  },
  {
   "cell_type": "markdown",
   "metadata": {},
   "source": [
    "Utilizando a biblioteca <i>Scikit-learn</i>, foi usado a função <i>train_test_split</i> para treinar 70% dos dados e prever os outros 30% desconhecidos.<br>\n",
    "Após isso, foi medido a precisão, revocação e f1-score, obtendo:"
   ]
  },
  {
   "cell_type": "markdown",
   "metadata": {},
   "source": [
    "base de dados|Precisão|Revocação|F1-score\n",
    ":--------:|:--------:|:---------:|:--------:\n",
    "australian| | | \n",
    "bands| | | \n",
    "bupa|0.582524|0.582524|0.582524 \n",
    "haberman| | | \n",
    "heart|0.436893|0.436893|0.436893\n",
    "hepatitis|0.823529|0.823529|0.823529\n",
    "mammographic|0.491428|0.491428|0.491428\n",
    "pima| | | \n",
    "saheart|0.287179 | 0.287179| 0.287179\n",
    "titanic|0.677761|0.677761|0.677761"
   ]
  }
 ],
 "metadata": {
  "kernelspec": {
   "display_name": "Python 3.10.7 64-bit",
   "language": "python",
   "name": "python3"
  },
  "language_info": {
   "codemirror_mode": {
    "name": "ipython",
    "version": 3
   },
   "file_extension": ".py",
   "mimetype": "text/x-python",
   "name": "python",
   "nbconvert_exporter": "python",
   "pygments_lexer": "ipython3",
   "version": "3.10.7"
  },
  "orig_nbformat": 4,
  "vscode": {
   "interpreter": {
    "hash": "67783390838d2e02912aac04d405c75735cc05868bfeaabbe6ec2bbdb2e2542d"
   }
  }
 },
 "nbformat": 4,
 "nbformat_minor": 2
}
